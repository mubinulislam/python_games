{
  "nbformat": 4,
  "nbformat_minor": 0,
  "metadata": {
    "colab": {
      "provenance": [],
      "authorship_tag": "ABX9TyPCG2d6XlsoWeAG+lhsAfHi",
      "include_colab_link": true
    },
    "kernelspec": {
      "name": "python3",
      "display_name": "Python 3"
    },
    "language_info": {
      "name": "python"
    }
  },
  "cells": [
    {
      "cell_type": "markdown",
      "metadata": {
        "id": "view-in-github",
        "colab_type": "text"
      },
      "source": [
        "<a href=\"https://colab.research.google.com/github/mubinulislam/python_games/blob/main/rock_paper_scissor.ipynb\" target=\"_parent\"><img src=\"https://colab.research.google.com/assets/colab-badge.svg\" alt=\"Open In Colab\"/></a>"
      ]
    },
    {
      "cell_type": "code",
      "source": [
        "#from random import randint\n",
        "import random\n",
        "set1=(\"rock\",\"paper\",\"scissors\")\n",
        "com=0\n",
        "usr=0\n",
        "while (com+usr)<=2:\n",
        "    computer=random.choice(set1)\n",
        "    user=input(\"rock, paper or scissor? \")\n",
        "    print(f\"computer: {computer}\")\n",
        "    print(f\"user: {user}\")\n",
        "\n",
        "    if computer == user:\n",
        "        print(\"Tie\")\n",
        "    elif user == \"rock\":\n",
        "        if computer ==\"paper\":\n",
        "            com+=1\n",
        "            print(f\"computer {com} points!\")\n",
        "        else:\n",
        "            usr+=1\n",
        "            print(f\"user {usr} points!\")\n",
        "    elif user == \"paper\":\n",
        "        if computer ==\"scissors\":\n",
        "            com+=1\n",
        "            print(f\"computer {com} points!\")\n",
        "        else:\n",
        "            usr+=1\n",
        "            print(f\"user {usr} points!\")\n",
        "    else:\n",
        "        if computer ==\"rock\":\n",
        "            com+=1\n",
        "            print(f\"computer {com} points!\")\n",
        "        else:\n",
        "            usr+=1\n",
        "            print(f\"user {usr} points!\")\n",
        "\n",
        "print(f\"computer: {com}\\nuser: {usr}\")"
      ],
      "metadata": {
        "colab": {
          "base_uri": "https://localhost:8080/"
        },
        "id": "kZW07SMIkrmL",
        "outputId": "c318dfdb-e1b7-47b2-d8a3-50d664c7ff57"
      },
      "execution_count": 23,
      "outputs": [
        {
          "output_type": "stream",
          "name": "stdout",
          "text": [
            "rock, paper or scissor? rock\n",
            "computer: scissors\n",
            "user: rock\n",
            "user 1 points!\n",
            "rock, paper or scissor? rock\n",
            "computer: paper\n",
            "user: rock\n",
            "computer 1 points!\n",
            "rock, paper or scissor? scissor\n",
            "computer: rock\n",
            "user: scissor\n",
            "computer 2 points!\n",
            "computer: 2\n",
            "user: 1\n"
          ]
        }
      ]
    }
  ]
}