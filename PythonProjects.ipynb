{
  "nbformat": 4,
  "nbformat_minor": 0,
  "metadata": {
    "colab": {
      "provenance": [],
      "authorship_tag": "ABX9TyOteghdhMyZe1NvyfzGiQpu",
      "include_colab_link": true
    },
    "kernelspec": {
      "name": "python3",
      "display_name": "Python 3"
    },
    "language_info": {
      "name": "python"
    }
  },
  "cells": [
    {
      "cell_type": "markdown",
      "metadata": {
        "id": "view-in-github",
        "colab_type": "text"
      },
      "source": [
        "<a href=\"https://colab.research.google.com/github/mubinulislam/python_games/blob/main/PythonProjects.ipynb\" target=\"_parent\"><img src=\"https://colab.research.google.com/assets/colab-badge.svg\" alt=\"Open In Colab\"/></a>"
      ]
    },
    {
      "cell_type": "code",
      "execution_count": 1,
      "metadata": {
        "colab": {
          "base_uri": "https://localhost:8080/"
        },
        "id": "ZnnIuWRdVrfB",
        "outputId": "6d08a9fe-3891-44c2-c5db-6d23eaf47148"
      },
      "outputs": [
        {
          "output_type": "stream",
          "name": "stdout",
          "text": [
            "\n",
            "    Welcome to basic calculator\n",
            " Please select your operation from below:\n",
            "(1) Addition\n",
            "(2) Subtraction\n",
            "(3) Division\n",
            "(4) Multiplication\n",
            "your answer:2\n",
            "Enter the first number:5\n",
            "Enter the second number:90\n",
            "Answer -85.0\n"
          ]
        }
      ],
      "source": [
        "def add(x,y):\n",
        "    return x+y\n",
        "\n",
        "def sub(x,y):\n",
        "    return (x-y)\n",
        "\n",
        "def div(x,y):\n",
        "    return x/y\n",
        "\n",
        "def mul(x,y):\n",
        "    return x*y\n",
        "\n",
        "print (\"\\n    Welcome to basic calculator\\n Please select your operation from below:\")\n",
        "print (\"(1) Addition\\n(2) Subtraction\\n(3) Division\\n(4) Multiplication\")\n",
        "\n",
        "\n",
        "i=input(\"your answer:\")\n",
        "\n",
        "num1=float(input(\"Enter the first number:\"))\n",
        "num2=float(input(\"Enter the second number:\"))\n",
        "\n",
        "\n",
        "if i=='1':\n",
        "    print(\"Answer\",add(num1,num2))\n",
        "\n",
        "elif i=='2':\n",
        "    print(\"Answer\",sub(num1,num2))\n",
        "\n",
        "elif i=='3':\n",
        "    print(\"Answer\",div(num1,num2))\n",
        "\n",
        "elif i=='4':\n",
        "    print(\"Answer\",mul(num1,num2))\n",
        "\n",
        "else:\n",
        "    print(\"You entered wrong command\")\n"
      ]
    }
  ]
}