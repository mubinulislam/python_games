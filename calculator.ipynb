{
  "nbformat": 4,
  "nbformat_minor": 0,
  "metadata": {
    "colab": {
      "provenance": [],
      "authorship_tag": "ABX9TyNTVpeN/I7fs65Udtp3Gj2W",
      "include_colab_link": true
    },
    "kernelspec": {
      "name": "python3",
      "display_name": "Python 3"
    },
    "language_info": {
      "name": "python"
    }
  },
  "cells": [
    {
      "cell_type": "markdown",
      "metadata": {
        "id": "view-in-github",
        "colab_type": "text"
      },
      "source": [
        "<a href=\"https://colab.research.google.com/github/mubinulislam/python_games/blob/main/calculator.ipynb\" target=\"_parent\"><img src=\"https://colab.research.google.com/assets/colab-badge.svg\" alt=\"Open In Colab\"/></a>"
      ]
    },
    {
      "cell_type": "code",
      "source": [
        "def add(x,y):\n",
        "    return x+y\n",
        "\n",
        "def sub(x,y):\n",
        "    return (x-y)\n",
        "\n",
        "def div(x,y):\n",
        "    return x/y\n",
        "\n",
        "def mul(x,y):\n",
        "    return x*y\n",
        "\n",
        "\n",
        "print (\"\\n    Welcome to basic calculator\\n Please select your operation from below:\")\n",
        "print (\"(1) Addition\\n(2) Subtraction\\n(3) Division\\n(4) Multiplication\")\n",
        "\n",
        "\n",
        "i=input(\"your answer:\")\n",
        "\n",
        "\n",
        "if i=='1':\n",
        "    num1=float(input(\"Enter the first number:\"))\n",
        "    num2=float(input(\"Enter the second number:\"))\n",
        "    print(\"Answer\",add(num1,num2))\n",
        "\n",
        "elif i=='2':\n",
        "    num1=float(input(\"Enter the first number:\"))\n",
        "    num2=float(input(\"Enter the second number:\"))\n",
        "    print(\"Answer\",sub(num1,num2))\n",
        "\n",
        "elif i=='3':\n",
        "    num1=float(input(\"Enter the first number:\"))\n",
        "    num2=float(input(\"Enter the second number:\"))\n",
        "    print(\"Answer\",div(num1,num2))\n",
        "\n",
        "elif i=='4':\n",
        "    num1=float(input(\"Enter the first number:\"))\n",
        "    num2=float(input(\"Enter the second number:\"))\n",
        "    print(\"Answer\",mul(num1,num2))\n",
        "\n",
        "else:\n",
        "    print(\"You entered wrong command\")"
      ],
      "metadata": {
        "colab": {
          "base_uri": "https://localhost:8080/"
        },
        "id": "NpkQ2AikhOAk",
        "outputId": "e673de2e-78ca-43ba-f7bd-2df970dbc0a6"
      },
      "execution_count": 19,
      "outputs": [
        {
          "output_type": "stream",
          "name": "stdout",
          "text": [
            "\n",
            "    Welcome to basic calculator\n",
            " Please select your operation from below:\n",
            "(1) Addition\n",
            "(2) Subtraction\n",
            "(3) Division\n",
            "(4) Multiplication\n",
            "your answer:3\n",
            "Enter the first number:1\n",
            "Enter the second number:2\n",
            "Answer 0.5\n"
          ]
        }
      ]
    }
  ]
}