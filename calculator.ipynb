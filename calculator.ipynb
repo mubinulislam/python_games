def add(x,y):
    return x+y

def sub(x,y):
    return (x-y)

def div(x,y):
    return x/y

def mul(x,y):
    return x*y

i=str("y")
while i=="y":
    print ("\n    Welcome to basic calculator\n Please select your operation from below:")
    print ("(1) Addition\n(2) Subtraction\n(3) Division\n(4) Multiplication")

    i=input("your answer:")

    if i=='1':
        num1=float(input("Enter the first number:"))
        num2=float(input("Enter the second number:"))
        print("Answer",add(num1,num2))
        i=str(input("run again y/n?"))

    elif i=='2':
        num1=float(input("Enter the first number:"))
        num2=float(input("Enter the second number:"))
        print("Answer",sub(num1,num2))
        i=str(input("run again (y/n)?"))

    elif i=='3':
        num1=float(input("Enter the first number:"))
        num2=float(input("Enter the second number:"))
        print("Answer",div(num1,num2))
        i=str(input("run again (y/n)?"))

    elif i=='4':
        num1=float(input("Enter the first number:"))
        num2=float(input("Enter the second number:"))
        print("Answer",mul(num1,num2))
        i=str(input("run again (y/n)?"))

    else:
        print("You entered wrong command")
        i=str(input("run again (y/n)?"))
else:
    print("Thanks for using!")
