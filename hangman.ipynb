{
  "nbformat": 4,
  "nbformat_minor": 0,
  "metadata": {
    "colab": {
      "provenance": [],
      "authorship_tag": "ABX9TyNhcTsQXQ2mlTVDVUXdO/Th",
      "include_colab_link": true
    },
    "kernelspec": {
      "name": "python3",
      "display_name": "Python 3"
    },
    "language_info": {
      "name": "python"
    }
  },
  "cells": [
    {
      "cell_type": "markdown",
      "metadata": {
        "id": "view-in-github",
        "colab_type": "text"
      },
      "source": [
        "<a href=\"https://colab.research.google.com/github/mubinulislam/python_games/blob/main/hangman.ipynb\" target=\"_parent\"><img src=\"https://colab.research.google.com/assets/colab-badge.svg\" alt=\"Open In Colab\"/></a>"
      ]
    },
    {
      "cell_type": "code",
      "source": [
        "import random\n",
        "fruits=[\"apple\",\"banana\",\"cherry\",\"orange\"]\n",
        "fruit_name=random.choice(fruits)\n",
        "user_response=\"\"\n",
        "number_of_try=5\n",
        "while number_of_try>0:\n",
        "    response=input(\"guess a letter...!\\n\")\n",
        "    if response in fruit_name:\n",
        "        user_response+=response\n",
        "        print(f\"yes! '{response}' is correct guess.\")\n",
        "    else:\n",
        "        number_of_try-=1\n",
        "        print(f\"oops! thats wrong. {number_of_try} tries left...!\")\n",
        "    wrong_letter_count=0\n",
        "    for i in fruit_name:\n",
        "        if i in user_response:\n",
        "            print(i,end=\" \")\n",
        "        else:\n",
        "            wrong_letter_count+=1\n",
        "            print(\"_\",end=\"\")\n",
        "    if wrong_letter_count==0:\n",
        "        print(\"\\nYou win!\")\n",
        "        break\n",
        "else:\n",
        "    print(\"you are out of chances. try again.\")"
      ],
      "metadata": {
        "colab": {
          "base_uri": "https://localhost:8080/"
        },
        "id": "DvUvION-juX-",
        "outputId": "6c3bd4cf-bbfd-4e4b-ab32-70a78824a591"
      },
      "execution_count": 21,
      "outputs": [
        {
          "output_type": "stream",
          "name": "stdout",
          "text": [
            "guess a letter...!\n",
            "a\n",
            "yes! 'a' is correct guess.\n",
            "__a ___guess a letter...!\n",
            "b\n",
            "oops! thats wrong. 4 tries left...!\n",
            "__a ___guess a letter...!\n",
            "o\n",
            "yes! 'o' is correct guess.\n",
            "o _a ___guess a letter...!\n",
            "r\n",
            "yes! 'r' is correct guess.\n",
            "o r a ___guess a letter...!\n",
            "e\n",
            "yes! 'e' is correct guess.\n",
            "o r a __e guess a letter...!\n",
            "g\n",
            "yes! 'g' is correct guess.\n",
            "o r a _g e guess a letter...!\n",
            "n\n",
            "yes! 'n' is correct guess.\n",
            "o r a n g e \n",
            "You win!\n"
          ]
        }
      ]
    }
  ]
}